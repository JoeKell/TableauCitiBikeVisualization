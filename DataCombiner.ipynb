{
 "metadata": {
  "language_info": {
   "codemirror_mode": {
    "name": "ipython",
    "version": 3
   },
   "file_extension": ".py",
   "mimetype": "text/x-python",
   "name": "python",
   "nbconvert_exporter": "python",
   "pygments_lexer": "ipython3",
   "version": "3.8.3-final"
  },
  "orig_nbformat": 2,
  "kernelspec": {
   "name": "python3",
   "display_name": "Python 3",
   "language": "python"
  }
 },
 "nbformat": 4,
 "nbformat_minor": 2,
 "cells": [
  {
   "cell_type": "code",
   "execution_count": 1,
   "metadata": {},
   "outputs": [],
   "source": [
    "import pandas as pd"
   ]
  },
  {
   "cell_type": "code",
   "execution_count": 2,
   "metadata": {},
   "outputs": [],
   "source": [
    "# Path to downloaded data\n",
    "DownloadedPath = \"DownloadedData/20\"\n",
    "PathEnd=\"-citibike-tripdata.csv\""
   ]
  },
  {
   "cell_type": "code",
   "execution_count": 3,
   "metadata": {},
   "outputs": [
    {
     "output_type": "execute_result",
     "data": {
      "text/plain": [
       "   tripduration                 starttime                  stoptime  \\\n",
       "0          2513  2021-01-01 00:00:11.9020  2021-01-01 00:42:05.2260   \n",
       "1          2519  2021-01-01 00:00:15.0960  2021-01-01 00:42:14.9780   \n",
       "2          1207  2021-01-01 00:00:28.9300  2021-01-01 00:20:36.6510   \n",
       "3          2506  2021-01-01 00:00:32.7130  2021-01-01 00:42:19.3980   \n",
       "4           959  2021-01-01 00:00:35.3650  2021-01-01 00:16:34.6010   \n",
       "\n",
       "   start station id          start station name  start station latitude  \\\n",
       "0              3581  Underhill Ave & Lincoln Pl               40.674012   \n",
       "1              3581  Underhill Ave & Lincoln Pl               40.674012   \n",
       "2              3144          E 81 St & Park Ave               40.776777   \n",
       "3              3581  Underhill Ave & Lincoln Pl               40.674012   \n",
       "4               534     Water - Whitehall Plaza               40.702551   \n",
       "\n",
       "   start station longitude  end station id            end station name  \\\n",
       "0               -73.967146            3581  Underhill Ave & Lincoln Pl   \n",
       "1               -73.967146            3581  Underhill Ave & Lincoln Pl   \n",
       "2               -73.959010            3724  7 Ave & Central Park South   \n",
       "3               -73.967146            3581  Underhill Ave & Lincoln Pl   \n",
       "4               -74.012723             332                   Cherry St   \n",
       "\n",
       "   end station latitude  end station longitude  bikeid    usertype  \\\n",
       "0             40.674012             -73.967146   47812    Customer   \n",
       "1             40.674012             -73.967146   47571    Customer   \n",
       "2             40.766741             -73.979069   37451  Subscriber   \n",
       "3             40.674012             -73.967146   48884    Customer   \n",
       "4             40.712199             -73.979481   26837    Customer   \n",
       "\n",
       "   birth year  gender  \n",
       "0        1969       0  \n",
       "1        1969       0  \n",
       "2        2002       1  \n",
       "3        2002       1  \n",
       "4        2002       1  "
      ],
      "text/html": "<div>\n<style scoped>\n    .dataframe tbody tr th:only-of-type {\n        vertical-align: middle;\n    }\n\n    .dataframe tbody tr th {\n        vertical-align: top;\n    }\n\n    .dataframe thead th {\n        text-align: right;\n    }\n</style>\n<table border=\"1\" class=\"dataframe\">\n  <thead>\n    <tr style=\"text-align: right;\">\n      <th></th>\n      <th>tripduration</th>\n      <th>starttime</th>\n      <th>stoptime</th>\n      <th>start station id</th>\n      <th>start station name</th>\n      <th>start station latitude</th>\n      <th>start station longitude</th>\n      <th>end station id</th>\n      <th>end station name</th>\n      <th>end station latitude</th>\n      <th>end station longitude</th>\n      <th>bikeid</th>\n      <th>usertype</th>\n      <th>birth year</th>\n      <th>gender</th>\n    </tr>\n  </thead>\n  <tbody>\n    <tr>\n      <th>0</th>\n      <td>2513</td>\n      <td>2021-01-01 00:00:11.9020</td>\n      <td>2021-01-01 00:42:05.2260</td>\n      <td>3581</td>\n      <td>Underhill Ave &amp; Lincoln Pl</td>\n      <td>40.674012</td>\n      <td>-73.967146</td>\n      <td>3581</td>\n      <td>Underhill Ave &amp; Lincoln Pl</td>\n      <td>40.674012</td>\n      <td>-73.967146</td>\n      <td>47812</td>\n      <td>Customer</td>\n      <td>1969</td>\n      <td>0</td>\n    </tr>\n    <tr>\n      <th>1</th>\n      <td>2519</td>\n      <td>2021-01-01 00:00:15.0960</td>\n      <td>2021-01-01 00:42:14.9780</td>\n      <td>3581</td>\n      <td>Underhill Ave &amp; Lincoln Pl</td>\n      <td>40.674012</td>\n      <td>-73.967146</td>\n      <td>3581</td>\n      <td>Underhill Ave &amp; Lincoln Pl</td>\n      <td>40.674012</td>\n      <td>-73.967146</td>\n      <td>47571</td>\n      <td>Customer</td>\n      <td>1969</td>\n      <td>0</td>\n    </tr>\n    <tr>\n      <th>2</th>\n      <td>1207</td>\n      <td>2021-01-01 00:00:28.9300</td>\n      <td>2021-01-01 00:20:36.6510</td>\n      <td>3144</td>\n      <td>E 81 St &amp; Park Ave</td>\n      <td>40.776777</td>\n      <td>-73.959010</td>\n      <td>3724</td>\n      <td>7 Ave &amp; Central Park South</td>\n      <td>40.766741</td>\n      <td>-73.979069</td>\n      <td>37451</td>\n      <td>Subscriber</td>\n      <td>2002</td>\n      <td>1</td>\n    </tr>\n    <tr>\n      <th>3</th>\n      <td>2506</td>\n      <td>2021-01-01 00:00:32.7130</td>\n      <td>2021-01-01 00:42:19.3980</td>\n      <td>3581</td>\n      <td>Underhill Ave &amp; Lincoln Pl</td>\n      <td>40.674012</td>\n      <td>-73.967146</td>\n      <td>3581</td>\n      <td>Underhill Ave &amp; Lincoln Pl</td>\n      <td>40.674012</td>\n      <td>-73.967146</td>\n      <td>48884</td>\n      <td>Customer</td>\n      <td>2002</td>\n      <td>1</td>\n    </tr>\n    <tr>\n      <th>4</th>\n      <td>959</td>\n      <td>2021-01-01 00:00:35.3650</td>\n      <td>2021-01-01 00:16:34.6010</td>\n      <td>534</td>\n      <td>Water - Whitehall Plaza</td>\n      <td>40.702551</td>\n      <td>-74.012723</td>\n      <td>332</td>\n      <td>Cherry St</td>\n      <td>40.712199</td>\n      <td>-73.979481</td>\n      <td>26837</td>\n      <td>Customer</td>\n      <td>2002</td>\n      <td>1</td>\n    </tr>\n  </tbody>\n</table>\n</div>"
     },
     "metadata": {},
     "execution_count": 3
    }
   ],
   "source": [
    "df=pd.read_csv(DownloadedPath+\"2101\"+PathEnd)\n",
    "df.to_csv(\"CombinedData/data.csv\", index=False, header=True)\n",
    "df.head()"
   ]
  },
  {
   "cell_type": "code",
   "execution_count": 4,
   "metadata": {},
   "outputs": [],
   "source": [
    "for year in range(19,21):\n",
    "    sYear=str(year)\n",
    "    for month in range(1,13):\n",
    "        if month<10:\n",
    "            sMonth=\"0\"+str(month)\n",
    "        else:\n",
    "            sMonth=str(month)\n",
    "        df=pd.read_csv(DownloadedPath+sYear+sMonth+PathEnd)\n",
    "        df.to_csv(\"CombinedData/data.csv\", mode='a', index=False, header=False)"
   ]
  }
 ]
}